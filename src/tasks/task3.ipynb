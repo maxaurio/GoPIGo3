{
 "cells": [
  {
   "cell_type": "code",
   "execution_count": null,
   "metadata": {},
   "outputs": [],
   "source": [
    "import time\n",
    "import easygopigo3 as easy\n",
    "gpg = easy.EasyGoPiGo3()\n",
    "\n",
    "my_distance_sensor = gpg.init_distance_sensor()\n",
    "\n",
    "#Sentinel\n",
    "n=int(input(\"Enter the number of scans required--->\"))\n",
    "dist=int(input(\"Enter the minimum distance at which the obstacle is detected (between 10/20 cm)--->\"))\n",
    "while dist<10:\n",
    "    print(\"Not valid entry\")\n",
    "    dist=int(input(\"Enter the minimum distance at which the obstacle is detected (between 10/20 cm)--->\"))\n",
    "safety_distance = my_distance_sensor.read_cm()>5\n",
    "obstacle = my_distance_sensor.read_cm()<=dist\n",
    "veryfying = False\n",
    "detected = False\n",
    "dgr=360//n\n",
    "while not detected:\n",
    "    while safety_distance and not veryfying:\n",
    "        gpg.forward\n",
    "        if obstacle:\n",
    "            veryfying = True\n",
    "            scans=1\n",
    "    while safety_distance and veryfying:\n",
    "        gpg.turn_degrees(90) #right: to put gpg on circular path\n",
    "        gpg.orbit(dgr, dist)\n",
    "        gpg.turn_degrees(-90) #left: to focus on obstacle direction\n",
    "        if obstacle:\n",
    "            scans+=1\n",
    "            veryfying = True\n",
    "        else:\n",
    "            veryfying = False\n",
    "    while not safety_distance:\n",
    "        gpg.turn_degrees(30)\n",
    "    if scans==n:\n",
    "        detected = True\n",
    "if detected:\n",
    "    gpg.stop()\n",
    "    print(\"Sentinel detected an obstacle\")"
   ]
  }
 ],
 "metadata": {
  "kernelspec": {
   "display_name": "Python 3",
   "language": "python",
   "name": "python3"
  },
  "language_info": {
   "codemirror_mode": {
    "name": "ipython",
    "version": 3
   },
   "file_extension": ".py",
   "mimetype": "text/x-python",
   "name": "python",
   "nbconvert_exporter": "python",
   "pygments_lexer": "ipython3",
   "version": "3.8.5"
  }
 },
 "nbformat": 4,
 "nbformat_minor": 4
}
